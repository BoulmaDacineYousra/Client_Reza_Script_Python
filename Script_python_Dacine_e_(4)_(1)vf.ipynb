{
  "cells": [
    {
      "cell_type": "markdown",
      "metadata": {
        "id": "view-in-github",
        "colab_type": "text"
      },
      "source": [
        "<a href=\"https://colab.research.google.com/github/BoulmaDacineYousra/Script-to-fill-the-DB-/blob/main/Script_python_Dacine_e_(4)_(1)vf.ipynb\" target=\"_parent\"><img src=\"https://colab.research.google.com/assets/colab-badge.svg\" alt=\"Open In Colab\"/></a>"
      ]
    },
    {
      "cell_type": "markdown",
      "source": [
        "## **`In this section, we will perform all the necessary library installations for the project.`**\n",
        "\n",
        "\n",
        "\n",
        "---\n",
        "\n",
        "\n",
        "\n",
        "\n",
        "\n",
        "\n",
        "\n",
        "\n",
        "\n",
        "\n",
        "\n",
        "\n",
        "\n",
        "\n"
      ],
      "metadata": {
        "id": "xKI-ejuoqQ3T"
      }
    },
    {
      "cell_type": "code",
      "source": [
        " \n",
        "pip install names"
      ],
      "metadata": {
        "colab": {
          "base_uri": "https://localhost:8080/"
        },
        "id": "4zcQrsI9sYBO",
        "outputId": "f6a011ff-fb55-4a40-93f4-455c44f85a4f"
      },
      "execution_count": null,
      "outputs": [
        {
          "output_type": "stream",
          "name": "stdout",
          "text": [
            "Looking in indexes: https://pypi.org/simple, https://us-python.pkg.dev/colab-wheels/public/simple/\n",
            "Requirement already satisfied: names in /usr/local/lib/python3.9/dist-packages (0.3.0)\n"
          ]
        }
      ]
    },
    {
      "cell_type": "code",
      "source": [
        "pip install randominfo"
      ],
      "metadata": {
        "colab": {
          "base_uri": "https://localhost:8080/"
        },
        "id": "VgAm6pkWGg-h",
        "outputId": "7fcec2d2-29e4-49ec-c867-f5692dd6d22b"
      },
      "execution_count": null,
      "outputs": [
        {
          "output_type": "stream",
          "name": "stdout",
          "text": [
            "Looking in indexes: https://pypi.org/simple, https://us-python.pkg.dev/colab-wheels/public/simple/\n",
            "Requirement already satisfied: randominfo in /usr/local/lib/python3.9/dist-packages (2.0.2)\n",
            "Requirement already satisfied: pillow>=5.4.1 in /usr/local/lib/python3.9/dist-packages (from randominfo) (8.4.0)\n",
            "Requirement already satisfied: pytz>=2018.5 in /usr/local/lib/python3.9/dist-packages (from randominfo) (2022.7.1)\n"
          ]
        }
      ]
    },
    {
      "cell_type": "code",
      "source": [
        "pip install phone-gen"
      ],
      "metadata": {
        "colab": {
          "base_uri": "https://localhost:8080/"
        },
        "id": "gbU8UpRbEBTT",
        "outputId": "0951c8fc-1d90-470f-f5f1-5a700aee4c3e"
      },
      "execution_count": null,
      "outputs": [
        {
          "output_type": "stream",
          "name": "stdout",
          "text": [
            "Looking in indexes: https://pypi.org/simple, https://us-python.pkg.dev/colab-wheels/public/simple/\n",
            "Requirement already satisfied: phone-gen in /usr/local/lib/python3.9/dist-packages (2.2.25)\n"
          ]
        }
      ]
    },
    {
      "cell_type": "code",
      "source": [
        "pip install randominfo\n"
      ],
      "metadata": {
        "colab": {
          "base_uri": "https://localhost:8080/"
        },
        "id": "9f1WIJsOImVI",
        "outputId": "467bbf15-0ccd-4708-f1e7-82586ea294ad"
      },
      "execution_count": null,
      "outputs": [
        {
          "output_type": "stream",
          "name": "stdout",
          "text": [
            "Looking in indexes: https://pypi.org/simple, https://us-python.pkg.dev/colab-wheels/public/simple/\n",
            "Requirement already satisfied: randominfo in /usr/local/lib/python3.9/dist-packages (2.0.2)\n",
            "Requirement already satisfied: pytz>=2018.5 in /usr/local/lib/python3.9/dist-packages (from randominfo) (2022.7.1)\n",
            "Requirement already satisfied: pillow>=5.4.1 in /usr/local/lib/python3.9/dist-packages (from randominfo) (8.4.0)\n"
          ]
        }
      ]
    },
    {
      "cell_type": "markdown",
      "source": [
        "## **`In this section, we will declare functions that generate client information`**"
      ],
      "metadata": {
        "id": "cj49v7i4rkxZ"
      }
    },
    {
      "cell_type": "code",
      "source": [
        "# function that returns random client name \n",
        "from names import get_full_name\n",
        "\n",
        "\n",
        "def get_random_full_name():\n",
        "   return   get_full_name()\n",
        "\n",
        "get_random_full_name()    \n",
        "\n",
        "    "
      ],
      "metadata": {
        "colab": {
          "base_uri": "https://localhost:8080/",
          "height": 38
        },
        "id": "aiJG9zs9spyN",
        "outputId": "30e2cd35-68e5-4c98-be18-bff5e2abf90f"
      },
      "execution_count": null,
      "outputs": [
        {
          "output_type": "execute_result",
          "data": {
            "text/plain": [
              "'Eugene Rios'"
            ],
            "application/vnd.google.colaboratory.intrinsic+json": {
              "type": "string"
            }
          },
          "metadata": {},
          "execution_count": 60
        }
      ]
    },
    {
      "cell_type": "code",
      "source": [
        "import random\n",
        "import string\n",
        "\n",
        "def generate_email(name ):\n",
        "    \"\"\"Generate a random email address\"\"\"\n",
        "    letters = string.ascii_lowercase\n",
        "    username = name\n",
        "    domain = random.choice(['gmail.com', 'yahoo.com', 'hotmail.com', 'outlook.com'])\n",
        "    return f\"{username}@{domain}\"\n",
        "\n",
        "generate_email(\"alex\")\n",
        "\n"
      ],
      "metadata": {
        "colab": {
          "base_uri": "https://localhost:8080/",
          "height": 38
        },
        "id": "G7TqUcRt7ZQt",
        "outputId": "39a84934-4368-4ca3-c77b-326d92e598d7"
      },
      "execution_count": null,
      "outputs": [
        {
          "output_type": "execute_result",
          "data": {
            "text/plain": [
              "'alex@yahoo.com'"
            ],
            "application/vnd.google.colaboratory.intrinsic+json": {
              "type": "string"
            }
          },
          "metadata": {},
          "execution_count": 61
        }
      ]
    },
    {
      "cell_type": "code",
      "source": [
        "from phone_gen import PhoneNumber\n",
        "def phoneNumber() : \n",
        "   phone_number = PhoneNumber(\"Algeria\")\n",
        "   number = phone_number.get_mobile()\n",
        "   return number \n",
        "\n",
        "phoneNumber()   \n"
      ],
      "metadata": {
        "colab": {
          "base_uri": "https://localhost:8080/",
          "height": 38
        },
        "id": "1S0G0Aq8ELOa",
        "outputId": "7a4c0343-0af6-477e-a638-4f0dcd745423"
      },
      "execution_count": null,
      "outputs": [
        {
          "output_type": "execute_result",
          "data": {
            "text/plain": [
              "'+213562994880'"
            ],
            "application/vnd.google.colaboratory.intrinsic+json": {
              "type": "string"
            }
          },
          "metadata": {},
          "execution_count": 62
        }
      ]
    },
    {
      "cell_type": "code",
      "source": [
        "import requests\n",
        "\n",
        "def guess_gender(name):\n",
        "\n",
        "    \n",
        "    nameOnly = name.split(' ')\n",
        "    name = nameOnly[0]\n",
        "    # Genderize API endpoint URL\n",
        "    url = f\"https://api.genderize.io?name={name}\"\n",
        "    \n",
        "    # Send GET request to API\n",
        "    response = requests.get(url)\n",
        "    \n",
        "    # Check if response status code is successful\n",
        "    if response.status_code == 200:\n",
        "        # Parse JSON response\n",
        "        data = response.json()\n",
        "        # Check if API returned a gender\n",
        "        if data.get('gender') is not None:\n",
        "            return data['gender']\n",
        "        else:\n",
        "            return 'Unknown'\n",
        "    else:\n",
        "        # Handle API error\n",
        "        return 'Error'\n",
        "\n"
      ],
      "metadata": {
        "id": "A_8y-x6ywzKC"
      },
      "execution_count": null,
      "outputs": []
    },
    {
      "cell_type": "code",
      "source": [
        "import random\n",
        "\n",
        "def get_client_Add() : \n",
        "    my_list2 = ['national','international']\n",
        "    weights = [100, 2]  # Bias towards item1\n",
        "    random_item = random.choices(my_list2, weights=weights, k=1)[0] \n",
        "    return random_item"
      ],
      "metadata": {
        "id": "1VaRF3Xv1SRV"
      },
      "execution_count": null,
      "outputs": []
    },
    {
      "cell_type": "markdown",
      "source": [
        "## **`In this section, we will read the csv file that contains info about the Hotels .`**"
      ],
      "metadata": {
        "id": "3E_cULYCsnJZ"
      }
    },
    {
      "cell_type": "code",
      "source": [
        "import pandas as pd\n",
        "\n",
        "df = pd.read_csv('hotels.csv', header=0)\n",
        "print(df)\n",
        "\n",
        "\n"
      ],
      "metadata": {
        "id": "JoiqElchFG71",
        "colab": {
          "base_uri": "https://localhost:8080/"
        },
        "outputId": "f1a4d37b-b31c-4d75-a43a-147e64507474"
      },
      "execution_count": null,
      "outputs": [
        {
          "output_type": "stream",
          "name": "stdout",
          "text": [
            "     id_hotel                 nom_hotel           ville         categorie  \\\n",
            "0           3     Complexe Naoui Charef          Djelfa   Station thermal   \n",
            "1           2           Hammam Salihine          Biskra   Station thermal   \n",
            "2           4            Hammam Meloune           Blida   Station thermal   \n",
            "3           5          Hammam Bouhadjar  Ain Témouchent   Station thermal   \n",
            "4           6          Hamma Bouhanifia         Mascara   Station thermal   \n",
            "..        ...                       ...             ...               ...   \n",
            "143       143      HOTEL TULIP INN NAYA           Alger  Ville ( Urbain )   \n",
            "144       144      HOTEL EDEN BEL ABBAS   Sidi Belabbes  Ville ( Urbain )   \n",
            "145       145       HOTEL AZ GRAND ORAN            Oran  Ville ( Urbain )   \n",
            "146       146  HOTEL EVASION BY LIBERTE            Oran  Ville ( Urbain )   \n",
            "147       147            HOTEL BAY DIAB           Alger  Ville ( Urbain )   \n",
            "\n",
            "    type_hotel  nombre_chambre  dispo_namlatic  classifying  \n",
            "0       Loisir             207              23            3  \n",
            "1      Détente             238              37            5  \n",
            "2      Détente             199              22            4  \n",
            "3      Détente             298              21            3  \n",
            "4      Détente             228              50            3  \n",
            "..         ...             ...             ...          ...  \n",
            "143    Famille             248              23            4  \n",
            "144    Famille             293              31            5  \n",
            "145     Loisir             256              40            5  \n",
            "146    Détente             169              41            5  \n",
            "147    Détente             297              43            5  \n",
            "\n",
            "[148 rows x 8 columns]\n"
          ]
        }
      ]
    },
    {
      "cell_type": "markdown",
      "source": [
        "## ***`*In this section, we will declare functions that generate reservation  information.*`***"
      ],
      "metadata": {
        "id": "06jLSn_EtIqw"
      }
    },
    {
      "cell_type": "code",
      "source": [
        "# Python3 code to generate the\n",
        "# random id using uuid1()\n",
        "\n",
        "import uuid\n",
        "def gen_id() : \n",
        "\n",
        "  return uuid.uuid4().hex\n",
        "\n",
        "gen_id()  \n",
        "\n"
      ],
      "metadata": {
        "colab": {
          "base_uri": "https://localhost:8080/",
          "height": 38
        },
        "id": "ktNhS7yU87oK",
        "outputId": "1798cc47-9c05-4c33-dd87-132c80d749d0"
      },
      "execution_count": null,
      "outputs": [
        {
          "output_type": "execute_result",
          "data": {
            "text/plain": [
              "'49fcb89151f14b7a803190ca3ca08bcf'"
            ],
            "application/vnd.google.colaboratory.intrinsic+json": {
              "type": "string"
            }
          },
          "metadata": {},
          "execution_count": 46
        }
      ]
    },
    {
      "cell_type": "code",
      "source": [
        "import random\n",
        "\n",
        "merged_column = (df['nom_hotel'] + '*' + df['ville']+ '*' +df[\"classifying\"].astype(str) ).tolist()\n",
        "\n",
        "def get_hotel () : \n",
        "   \n",
        "   print(merged_column) \n",
        "   random_item = random.choices(merged_column)[0]\n",
        "   return random_item\n",
        "  # return random_item.strftime('%d-%m-%Y') \n",
        "\n",
        " \n",
        "get_hotel() \n",
        "\n",
        "\n",
        "\n"
      ],
      "metadata": {
        "id": "-PPV9OdMrjW-",
        "colab": {
          "base_uri": "https://localhost:8080/",
          "height": 75
        },
        "outputId": "260c585d-ff09-42a2-877a-590f53c0a217"
      },
      "execution_count": null,
      "outputs": [
        {
          "output_type": "stream",
          "name": "stdout",
          "text": [
            "['Complexe Naoui Charef*Djelfa*3', 'Hammam Salihine*Biskra*5', 'Hammam Meloune*Blida*4', 'Hammam Bouhadjar*Ain Témouchent*3', 'Hamma Bouhanifia*Mascara*3', 'Hammam Boughrara*Tlemcen*3', 'Hamma Rabbi*Saida*5', 'HOTEL EL BEY*Constantine*4', 'Complexe Touristique Soleil Tour*Ghardaia*4', 'Hôtel ziban*Biskra*5', 'Hôtel Rym*Beni abbés*5', 'Hôtel Touat*Adrar*4', 'Hôtel Ain Bouda*Adrar*3', 'Hôtel El Eulmi*El Oued*5', 'Hôtel Louss*El Oued*4', 'Hôtel El Mehri*Ouargla*5', 'Hôtel Zaid*Ouargla*5', 'Hôtel El Khaima*Tindouf*5', \"Hôtel M'zab*Ghardaia*4\", 'Hôtel El Djanoub*Ghardaia*5', 'Hôtel Maha*Tamanrasset*4', 'Hôtel El Boustane*El Menia*3', 'Hôtel Noumerat*Ghardaia*5', 'Hôtel Belvedére*Ghardaia*3', 'Hôtel El Médiaf*El Oued*4', 'Hôtel Lynatel Palace*Ouargla*3', 'Hôtel Oasis Touggourt*Ouargla*3', 'hotel raya*Béjaia*5', 'Hammam Righa*Ain defla*3', 'hotel chenoua*Tipaza*4', 'résidence light flash*Oran*4', 'residence el omara*Mostaganem*5', 'hotel phénicia*Mostaganem*3', 'hotel cote ouest*Mostaganem*3', 'doriane beach club*Ain Timouchent*3', \"karaib's resort*Ain Timouchent*3\", 'atlantis djallab*Ain Timouchent*3', 'hotel titanic*Skikda*3', 'hotel essalem*Skikda*5', 'hotel la fontaine*Skikda*4', 'hotel sabri*Annaba*3', 'hotel Azul*Alger*4', 'hotel les abbassides*Alger*4', \"Az vague d'or*Alger*3\", 'hotel mazafran*Alger*3', \"hotel sable d'or*Alger*5\", \"hotel l'eventail *Alger*4\", 'hotel Necib beach*Alger*5', 'hôtel Royal Sakhri*Alger*3', 'AZ Zeralda*Alger*4', 'HOTEL LES ABBASSIDES*Alger*4', 'Hotel HNR*Alger*3', 'Hotel Oasis*Alger*3', 'HOTEL HYDRA*Alger*3', 'HOTEL HYDRA FAYETTE*Alger*5', 'HOTEL BEAUX ARTS*Alger*3', 'HOTEL GOLDEN TULIP ROYAUME*Alger*5', 'HOTEL BEST WESTERN SETIF*Setif*5', 'HOTEL SOLTANE*Alger*5', 'HOTEL IKRAM ALGER*Alger*5', 'HOTEL IKRAM ORAN*Oran*4', 'HOTEL METROPOLE I*Sidi Belabbes*5', 'HOTEL METROPOLE II*Sidi Belabbes*5', 'HOTEL DU NORD*Bejaia*3', 'HOTEL LES ZIANIDES*Tlemcen*4', 'HOTEL CHAKER*Batna*5', 'HOTEL LE PACHA*Oran*3', 'RESIDENCE ABLA-YASSMINE*Tlemcen*4', 'HOTEL SPACE TELEMLY*Alger*5', 'HOTEL ST TOURISME*Alger*5', 'HOTEL LE CHEVAL BLANC*Oran*3', 'HOTEL MEDINA*Oran*3', 'HOTEL ASSLOUNI*Djelfa*5', 'HOTEL JARDY*Alger*5', 'HOTEL RADISSON BLU*Alger*3', 'HOTEL MADAURE*Alger*3', 'HOTELSARASIN*Bejaia*4', 'HOTEL MESSAOUDI*Batna*3', 'HOTEL TRAJAN*Batna*3', 'HOTEL HANI*Alger*5', 'HOTEL M SUITE*Alger*4', 'MF HOTEL ORAN*Oran*4', 'HOTEL RAYA*Bejaia*4', 'HOTEL LALLA DOUDJA*Alger*5', 'HOTEL BEST WESTERN COLOMBE*Oran*4', \"HOTEL L'OLYMPIC*Alger*5\", \"HOTEL L'ESCALE*Oran*3\", 'HOTEL GUETTAFI*Batna*3', 'HOTEL HOCINE*Constantine*3', ' HOTEL  HAZEM*Batna*3', 'TIMGAD HOTEL EL HAZEM*Batna*3', 'HOTEL DU PRINCE*Ain Témouchent*5', 'HOTEL BRAHIMI*Batna*4', 'HOTEL BEN OSMANE*Tebessa*3', 'SOFIHOTEL*Oran*3', 'HOTEL EL MOUAHIDINE*Oran*4', 'HOTEL HADIL*Oran*5', 'RESIDENCE MARMARA DENIZ*Oran*5', 'HOTEL ATLANTIS BEJAIA AEROPORT*Bejaia*5', 'HOTEL ATLANTIS AKBOU*Bejaia*4', 'HOTEL DU VAL*Alger*4', 'HOTEL MISTRAL*Oran*4', 'HOTEL TASSILI 1*Oran*4', 'HOTEL EL BOUSTANE LAGHOUAT*Laghouat*3', 'HOTEL RANIA*Laghouat*5', 'Hotel EL BIAR *Alger*4', 'HOTEL EL MAHDI*Batna*3', 'HOTEL MARAVAL*Oran*5', 'HOTEL LES ORANGERS*Chlef*5', 'HOTEL NOVA*Alger*5', 'HOTEL FERDI LILLY*Alger*3', 'HOTEL RODINA*Oran*4', 'ROYAL HOTEL ORAN - MGALLERY*Oran*4', 'HOTEL MERCURE*Alger*5', \"HOTEL RUE D'OR*Setif*5\", 'HOTEL PALACIO*Mostaganem*3', 'HOTEL LIBERTE*Oran*4', 'HOTEL LIBERTE EXPRESS*Oran*4', 'LIBERTE EXPRESS APPART-HOTEL*Oran*4', 'HOTEL VENT-DOME KHALED*Oran*5', 'HOTEL LE TELEPHERIQUE*Annaba*5', 'HOTEL LA TAFNA*Tlemcen*3', 'NUMIDIEN HÔTEL*Alger*4', 'MH HOTEL*Oran*3', 'HOTEL LES JASMINS*Batna*5', 'HOTEL MADERA*Batna*5', 'HOTEL VILLE DES ROSES*Blida*3', 'HOTEL EL AMINE*Boumerdes*5', 'HOTEL IBIRIS*Oran*4', 'HOTEL BRAHMI*Bejaia*4', 'HOTEL LES AMBASSADEURS*Oran*4', 'HOTEL MARHABA*Laghouat*5', 'HOTEL EL FORSANE*Saida*5', 'HOTEL LES ABBASSIDES TIARET*Tiaret*3', 'HOTEL ARC EN CIEL 1*Constantine*5', 'HOTEL ARC EN CIEL 2*Constantine*5', 'RESIDENCE JASMINS*Oran*4', 'HOTEL BEL AIR 1*Ain Témouchent*3', 'HOTEL BEL AIR 2*Ain Témouchent*5', 'HOTEL ATLANTIS AIR DE FRANCE*Alger*4', 'HOTEL EDEN STOP*Ain Témouchent*4', 'HOTEL AZ KOUBA*Alger*5', 'HOTEL AZ VIEUX KOUBA*Alger*3', 'HOTEL TULIP INN NAYA*Alger*4', 'HOTEL EDEN BEL ABBAS*Sidi Belabbes*5', 'HOTEL AZ GRAND ORAN*Oran*5', 'HOTEL EVASION BY LIBERTE*Oran*5', 'HOTEL BAY DIAB*Alger*5']\n"
          ]
        },
        {
          "output_type": "execute_result",
          "data": {
            "text/plain": [
              "'Hôtel El Médiaf*El Oued*4'"
            ],
            "application/vnd.google.colaboratory.intrinsic+json": {
              "type": "string"
            }
          },
          "metadata": {},
          "execution_count": 85
        }
      ]
    },
    {
      "cell_type": "code",
      "source": [
        "import random\n",
        "\n",
        "def get_status() : \n",
        "    my_list2 = ['honorée','annulée' , 'noshow']\n",
        "    weights = [4, 2, 1]  # Bias towards item1\n",
        "    random_item = random.choices(my_list2, weights=weights, k=1)[0] \n",
        "    return random_item\n",
        "\n",
        "get_status()   "
      ],
      "metadata": {
        "colab": {
          "base_uri": "https://localhost:8080/",
          "height": 38
        },
        "id": "oyFQkv1IDFC5",
        "outputId": "d4575262-f314-4dbb-f635-6351d41dd88d"
      },
      "execution_count": null,
      "outputs": [
        {
          "output_type": "execute_result",
          "data": {
            "text/plain": [
              "'honorée'"
            ],
            "application/vnd.google.colaboratory.intrinsic+json": {
              "type": "string"
            }
          },
          "metadata": {},
          "execution_count": 48
        }
      ]
    },
    {
      "cell_type": "code",
      "source": [
        "import random\n",
        "\n",
        "def get_payment_type() : \n",
        "    # my_list = ['PAT', 'PAT','PAT', 'CIB','CIB', 'Wiretransfert']\n",
        "    weights = [4, 2, 1]  # Bias towards item1\n",
        "    my_list = ['PAT', 'CIB', 'Wiretransfert']\n",
        "    # weights = [4, 2, 1]  # Bias towards item1\n",
        "    random_item = random.choices(my_list, weights=weights, k=1)[0]\n",
        "    # random_item = random.choices(my_list, k=1)[0]\n",
        "    return random_item\n",
        "\n",
        "get_payment_type()"
      ],
      "metadata": {
        "id": "GDXEgi54ejib",
        "colab": {
          "base_uri": "https://localhost:8080/",
          "height": 38
        },
        "outputId": "41c67599-938b-444c-bb3b-a8115158c324"
      },
      "execution_count": null,
      "outputs": [
        {
          "output_type": "execute_result",
          "data": {
            "text/plain": [
              "'PAT'"
            ],
            "application/vnd.google.colaboratory.intrinsic+json": {
              "type": "string"
            }
          },
          "metadata": {},
          "execution_count": 49
        }
      ]
    },
    {
      "cell_type": "code",
      "source": [
        "import random\n",
        "\n",
        "def get_reza_device() : \n",
        "    my_list2 = ['PC','Android Phone' , 'Iphone']\n",
        "    weights = [3, 2, 1]  # Bias towards item1\n",
        "    random_item = random.choices(my_list2, weights=weights, k=1)[0] \n",
        "    return random_item\n",
        "\n"
      ],
      "metadata": {
        "id": "QSOBYTHf3mcH"
      },
      "execution_count": null,
      "outputs": []
    },
    {
      "cell_type": "markdown",
      "source": [
        "# **`This section is for generating and manipulating dates.`**"
      ],
      "metadata": {
        "id": "94IJKgVsttuI"
      }
    },
    {
      "cell_type": "code",
      "source": [
        "import datetime\n",
        "\n",
        "def add_days_to_date(date_string, days):\n",
        "    \"\"\"Add a number of days to a date and return the result in the dd-mm-YYYY format\"\"\"\n",
        "    # Parse the input date string to a datetime object\n",
        "    date = datetime.datetime.strptime(date_string , '%Y-%m-%d')\n",
        "    new_date = date + datetime.timedelta(days=days)\n",
        "    return new_date.strftime('%Y-%m-%d')\n",
        "\n",
        "add_days_to_date( '2020-12-12', 8)"
      ],
      "metadata": {
        "colab": {
          "base_uri": "https://localhost:8080/",
          "height": 38
        },
        "id": "yi5J1W4Z9LMy",
        "outputId": "0a71c774-3a37-46f6-dbd4-d682b4d3cbe8"
      },
      "execution_count": null,
      "outputs": [
        {
          "output_type": "execute_result",
          "data": {
            "text/plain": [
              "'2020-12-20'"
            ],
            "application/vnd.google.colaboratory.intrinsic+json": {
              "type": "string"
            }
          },
          "metadata": {},
          "execution_count": 51
        }
      ]
    },
    {
      "cell_type": "code",
      "source": [
        "import random\n",
        "import datetime\n",
        "\n",
        "def generate_random_date():\n",
        "    \"\"\"Generate a random date between January 1st, 2020 and today\"\"\"\n",
        "    start_date = datetime.date(2020, 1, 1)\n",
        "    end_date = datetime.date.today()\n",
        "    delta = end_date - start_date\n",
        "    random_days = random.randint(0, delta.days)\n",
        "    random_date = start_date + datetime.timedelta(days=random_days)\n",
        "    # return random_date\n",
        "    return random_date.strftime('%Y-%m-%d') \n",
        "\n",
        "date= generate_random_date()\n",
        "print(date)  \n",
        "days = random.randint(1, 15)\n",
        "print(days)\n",
        "add_days_to_date( date, days )"
      ],
      "metadata": {
        "id": "xBkMGYnhAntT"
      },
      "execution_count": null,
      "outputs": []
    },
    {
      "cell_type": "code",
      "source": [
        "import random\n",
        "from datetime import date, timedelta\n",
        "\n",
        "def canceledOn(bookedOn , checkIn ) : \n",
        "\n",
        "   start = datetime.datetime.strptime(bookedOn , '%Y-%m-%d')\n",
        "   end  = datetime.datetime.strptime(checkIn  , '%Y-%m-%d')\n",
        "   \n",
        "   # generate a random number of days between the start and end dates\n",
        "   days_diff = ( end - start ).days\n",
        "   random_days = random.randint(0, days_diff)\n",
        "\n",
        "   # calculate the random date\n",
        "   random_date = start + timedelta(days=random_days)\n",
        "\n",
        "   # print the random date\n",
        "   return random_date.strftime('%Y-%m-%d')\n",
        "\n",
        "canceledOn('2022-02-01', '2022-02-12') "
      ],
      "metadata": {
        "colab": {
          "base_uri": "https://localhost:8080/",
          "height": 38
        },
        "id": "SKujtuyXlNyu",
        "outputId": "286a1d06-d0f4-4d6e-cc89-da8c5a3846f8"
      },
      "execution_count": null,
      "outputs": [
        {
          "output_type": "execute_result",
          "data": {
            "text/plain": [
              "'2022-02-12'"
            ],
            "application/vnd.google.colaboratory.intrinsic+json": {
              "type": "string"
            }
          },
          "metadata": {},
          "execution_count": 53
        }
      ]
    },
    {
      "cell_type": "markdown",
      "source": [
        "# **`This section is for room price a refund amount  .`**"
      ],
      "metadata": {
        "id": "TmXUSBcnuhZZ"
      }
    },
    {
      "cell_type": "code",
      "source": [
        "def roomPrice (classifying) : \n",
        "   if classifying == 1 : \n",
        "      price =  random.randint( 3000, 5000)\n",
        "\n",
        "   elif classifying == 2 :\n",
        "     price = random.randint( 5000 , 7000)\n",
        "\n",
        "   elif classifying == 3 :\n",
        "     price = random.randint( 6000 , 8000)\n",
        "\n",
        "   elif classifying == 4 :\n",
        "     price = random.randint( 8500 , 10000)\n",
        "\n",
        "   elif classifying == 5 :\n",
        "     price = random.randint( 12000 , 20000)   \n",
        "\n",
        "   return price\n",
        "\n",
        "roomPrice(3)   "
      ],
      "metadata": {
        "colab": {
          "base_uri": "https://localhost:8080/"
        },
        "id": "O69dWUd0-SCj",
        "outputId": "780c3fab-2360-4209-c2c3-5a5618847c5a"
      },
      "execution_count": null,
      "outputs": [
        {
          "output_type": "execute_result",
          "data": {
            "text/plain": [
              "6241"
            ]
          },
          "metadata": {},
          "execution_count": 56
        }
      ]
    },
    {
      "cell_type": "code",
      "source": [
        "def refundAmount (bookingAmount):\n",
        "    refundPer =  random.randint(80, 90)\n",
        "    refundAmount = bookingAmount*refundPer/100 \n",
        "    return int(refundAmount)\n",
        "refundAmount (20000)\n"
      ],
      "metadata": {
        "colab": {
          "base_uri": "https://localhost:8080/"
        },
        "id": "8jLcvZ5_gUxA",
        "outputId": "32f8e5d3-b9c4-4940-d576-5052c8dde41c"
      },
      "execution_count": null,
      "outputs": [
        {
          "output_type": "execute_result",
          "data": {
            "text/plain": [
              "17600"
            ]
          },
          "metadata": {},
          "execution_count": 55
        }
      ]
    },
    {
      "cell_type": "markdown",
      "source": [
        "## **Section for commission calculation**"
      ],
      "metadata": {
        "id": "SF7bVmCv7bkg"
      }
    },
    {
      "cell_type": "code",
      "source": [
        "import random\n",
        "\n",
        "def get_hotel_commission(bookingAmount) : \n",
        "    CommissionPer =  random.randint(10, 25)\n",
        "    commissionAmount = bookingAmount* CommissionPer /100 \n",
        "    return int(commissionAmount)"
      ],
      "metadata": {
        "id": "pPJCo_Z377cn"
      },
      "execution_count": null,
      "outputs": []
    },
    {
      "cell_type": "markdown",
      "source": [
        "### **`The script to fill the DB`**"
      ],
      "metadata": {
        "id": "kJhRzdIyvA2E"
      }
    },
    {
      "cell_type": "code",
      "source": [
        "\n",
        "import random\n",
        "from datetime import date, timedelta\n",
        "\n",
        "import psycopg2\n",
        "\n",
        "# Connect to the hosted PostgreSQL database\n",
        "conn = psycopg2.connect(\n",
        "    host=\"namla-dev.cbcn7atdxnnu.eu-west-1.rds.amazonaws.com\",\n",
        "    port=\"5432\",\n",
        "    database=\"namla_market\",\n",
        "    user=\"younes\",\n",
        "    password=\"tRd24WOsGCoe\"\n",
        ")\n",
        "\n",
        "# Open a cursor to perform database operations\n",
        "cur = conn.cursor()\n",
        "\n",
        "\n",
        "for i in range(100):\n",
        "\n",
        "   id = gen_id() \n",
        "\n",
        "   name = get_random_full_name() \n",
        "\n",
        "   nameWithoutSpace  = name.replace(\" \", \"_\")\n",
        "   gender = guess_gender(name)\n",
        "   add= get_client_Add()\n",
        "\n",
        "\n",
        "   payementType = get_payment_type() \n",
        "   print(payementType) \n",
        "\n",
        "   email = generate_email(nameWithoutSpace)\n",
        "\n",
        "   status  = get_status() \n",
        "\n",
        "   device = get_reza_device()\n",
        "   \n",
        "   hotel = get_hotel()\n",
        "\n",
        "   my_list = hotel.split('*')\n",
        "   hotelName = my_list[0]\n",
        "   hotelAdd = my_list[1]\n",
        "   classifying = int(my_list[2])\n",
        "   print (classifying) \n",
        "\n",
        "  \n",
        "   bookedOn = generate_random_date()\n",
        "   print(bookedOn)\n",
        "\n",
        "   \n",
        "\n",
        "   days = random.randint(1, 100)\n",
        "\n",
        "   datechekin = add_days_to_date( bookedOn, days) \n",
        "   print(datechekin)\n",
        "\n",
        "   days = random.randint(1, 15) \n",
        "\n",
        "   datecheckout = add_days_to_date(datechekin, days)\n",
        "   print(datecheckout)\n",
        "   canceledon = None ; \n",
        "   roomCount = random.randint(1, 4) \n",
        "\n",
        "   roomprice = roomPrice(classifying)\n",
        "   bookingAmount = roomprice * roomCount\n",
        "    \n",
        "  \n",
        "\n",
        "   if (status == \"annulée\") : \n",
        "     canceledon =  canceledOn(bookedOn , datechekin )\n",
        "     start = datetime.datetime.strptime(canceledon  , '%Y-%m-%d')\n",
        "     end  = datetime.datetime.strptime(datechekin  , '%Y-%m-%d')\n",
        "     days_diff = ( end - start ).days \n",
        "     if (int(days_diff) > 1 ) :\n",
        "         refundamount = int(refundAmount (bookingAmount) )\n",
        "\n",
        "   print(canceledon)  \n",
        "  \n",
        "   NamlaticCom = get_hotel_commission(bookingAmount) \n",
        "   hotelCom = bookingAmount - NamlaticCom\n",
        "\n",
        "\n",
        "   \n",
        "\n",
        "   cur.execute(  \"INSERT INTO namla_market.reservation ( bookingno, bookingstatus, paymenttype, hotelname, hoteladdress, guestname, guestphoneno, gustemail, gustlocalisation, gustage, gustsexe, reza_device,roomcount, guestcount, days, bookedon , checkin, checkout, bookingamount, directhotelbooking, bookingamount_vat, amountpaid, amounttopayathotel, cancelledon, cancelledfee, servicecharge, refundamount, cibbankfee, hotelcommission, hotelownervat, namlaticcommission , namlaticvat) VALUES (%s, %s, %s, %s, %s, %s, %s, %s, %s, %s, %s, %s, %s, %s, %s, %s, %s, %s, %s, %s, %s, %s, %s, %s, %s, %s, %s, %s, %s, %s, %s , %s)\", (id ,status , payementType , hotelName, hotelAdd, name, phoneNumber() , email , add , 35 , gender , device, roomCount , roomCount , days, bookedOn , datechekin, datecheckout , bookingAmount , 'No', '$550', '$100', '$450',canceledon , None, None, refundamount, 0.2, hotelCom, hotelCom/0.09 , NamlaticCom , NamlaticCom/0.09 )) \n",
        "   # Commit the transaction\n",
        "conn.commit() \n",
        "\n",
        "# Close the cursor and database connection\n",
        "cur.close()\n",
        "conn.close()"
      ],
      "metadata": {
        "id": "FP1y--azNUiz"
      },
      "execution_count": null,
      "outputs": []
    }
  ],
  "metadata": {
    "colab": {
      "provenance": [],
      "include_colab_link": true
    },
    "kernelspec": {
      "display_name": "Python 3",
      "name": "python3"
    }
  },
  "nbformat": 4,
  "nbformat_minor": 0
}